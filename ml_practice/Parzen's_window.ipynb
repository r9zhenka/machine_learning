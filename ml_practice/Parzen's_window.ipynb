{
 "cells": [
  {
   "cell_type": "code",
   "execution_count": 1,
   "id": "ae50407b-05d6-45d4-8100-b5e68e075f01",
   "metadata": {},
   "outputs": [],
   "source": [
    "import numpy as np\n",
    "from sklearn.model_selection import train_test_split"
   ]
  },
  {
   "cell_type": "code",
   "execution_count": 19,
   "id": "1dfd85be-5498-4d79-8cf0-f66655f4069e",
   "metadata": {},
   "outputs": [
    {
     "data": {
      "text/plain": [
       "np.float64(0.15925925925925927)"
      ]
     },
     "execution_count": 19,
     "metadata": {},
     "output_type": "execute_result"
    }
   ],
   "source": [
    "np.random.seed(0)\n",
    "n_feature = 2\n",
    "\n",
    "# parametrs for data\n",
    "r1 = 0.7\n",
    "D1 = 3.0\n",
    "mean1 = [3, 3]\n",
    "V1 = [[D1 * r1 ** abs(i-j) for j in range(n_feature)] for i in range(n_feature)]\n",
    "\n",
    "r2 = 0.5\n",
    "D2 = 2.0\n",
    "mean2 = [1, 1]\n",
    "V2 = [[D2 * r2 ** abs(i-j) for j in range(n_feature)] for i in range(n_feature)]\n",
    "\n",
    "r3 = -0.7\n",
    "D3 = 1.0\n",
    "mean3 = [-2, -2]\n",
    "V3 = [[D3 * r3 ** abs(i-j) for j in range(n_feature)] for i in range(n_feature)]\n",
    "\n",
    "# Model data\n",
    "N1, N2, N3 = 200, 150, 190\n",
    "x1 = np.random.multivariate_normal(mean1, V1, N1).T\n",
    "x2 = np.random.multivariate_normal(mean2, V2, N2).T\n",
    "x3 = np.random.multivariate_normal(mean3, V3, N3).T\n",
    "\n",
    "data_x = np.hstack([x1, x2, x3]).T\n",
    "data_y = np.hstack([np.zeros(N1), np.ones(N2), np.ones(N3) * 2])\n",
    "\n",
    "x_train, x_test, y_train, y_test = train_test_split(data_x, data_y, random_state=123, test_size=0.5, shuffle=True)\n",
    "\n",
    "def ro(x1, x2):\n",
    "    return np.sum(abs(x1 - x2))\n",
    "\n",
    "\n",
    "def K(r):\n",
    "    return np.exp(-r**2/2) / (2 * np.pi) ** 0.5\n",
    "\n",
    "h = 1\n",
    "\n",
    "# parzen's func: count max value of sum of kernels for different potential classes and return index of maximaser (0-2) what is class\n",
    "a = lambda x: np.argmax([sum([int(y == yk) * K(ro(x, xk) / h) for xk, yk in zip(x_train, y_train)]) for y in range(3)])\n",
    "\n",
    "predict = [a(x) for x in x_test]\n",
    "\n",
    "Q = np.mean(predict != y_test)\n",
    "Q"
   ]
  },
  {
   "cell_type": "code",
   "execution_count": null,
   "id": "5474f44f-289e-449f-988b-e1863ec5872b",
   "metadata": {},
   "outputs": [],
   "source": []
  }
 ],
 "metadata": {
  "kernelspec": {
   "display_name": "Python 3 (ipykernel)",
   "language": "python",
   "name": "python3"
  },
  "language_info": {
   "codemirror_mode": {
    "name": "ipython",
    "version": 3
   },
   "file_extension": ".py",
   "mimetype": "text/x-python",
   "name": "python",
   "nbconvert_exporter": "python",
   "pygments_lexer": "ipython3",
   "version": "3.12.4"
  }
 },
 "nbformat": 4,
 "nbformat_minor": 5
}
