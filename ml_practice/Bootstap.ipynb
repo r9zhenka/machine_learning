{
 "cells": [
  {
   "cell_type": "code",
   "execution_count": 1,
   "id": "08398107-097f-4e3e-9269-2c8056c89d48",
   "metadata": {},
   "outputs": [],
   "source": [
    "import numpy as np\n",
    "\n",
    "data_x = [(5.8, 2.7), (6.7, 3.1), (5.7, 2.9), (5.5, 2.4), (4.8, 3.4), (5.4, 3.4), (4.8, 3.0), (5.5, 2.5), (5.3, 3.7), (7.0, 3.2), (5.6, 2.9), (4.9, 3.1), (4.8, 3.0), (5.0, 2.3), (5.2, 3.4), (5.1, 3.8), (5.0, 3.0), (5.0, 3.3), (4.6, 3.1), (5.5, 2.6), (5.0, 3.5), (6.7, 3.0), (6.0, 2.2), (4.8, 3.1), (6.4, 2.9), (5.6, 3.0), (4.4, 3.0), (4.9, 2.4), (5.6, 3.0), (5.0, 3.6), (5.1, 3.3), (5.8, 4.0), (5.5, 2.4), (5.2, 2.7), (5.1, 3.8), (5.1, 3.5), (5.5, 4.2), (4.9, 3.1), (5.9, 3.2), (5.7, 2.6), (4.7, 3.2), (5.4, 3.9), (5.8, 2.6), (5.1, 3.4), (6.4, 3.2), (5.8, 2.7), (5.6, 2.7), (5.7, 2.8), (5.4, 3.0), (5.0, 3.2), (4.6, 3.4), (6.0, 2.7), (6.6, 3.0), (4.9, 3.0), (4.9, 3.6), (4.4, 3.2), (5.4, 3.4), (6.0, 3.4), (5.9, 3.0), (6.1, 2.8), (5.1, 3.7), (5.5, 3.5), (6.1, 3.0), (6.2, 2.2), (5.7, 3.0), (5.2, 3.5), (5.4, 3.7), (4.6, 3.2), (5.2, 4.1), (5.0, 2.0), (6.8, 2.8), (5.0, 3.5), (6.7, 3.1), (6.3, 3.3), (6.0, 2.9), (4.7, 3.2), (6.6, 2.9), (5.6, 2.5), (4.4, 2.9), (6.2, 2.9), (6.1, 2.9), (4.3, 3.0), (6.9, 3.1), (5.7, 3.8), (5.4, 3.9), (6.1, 2.8), (4.6, 3.6), (5.5, 2.3), (4.8, 3.4), (6.5, 2.8), (6.3, 2.5), (5.1, 3.8), (5.7, 4.4), (5.0, 3.4), (4.5, 2.3), (5.7, 2.8), (5.1, 2.5), (5.1, 3.5), (6.3, 2.3), (5.0, 3.4)]\n",
    "data_y = [1, 1, 1, 1, -1, -1, -1, 1, -1, 1, 1, -1, -1, 1, -1, -1, -1, -1, -1, 1, -1, 1, 1, -1, 1, 1, -1, 1, 1, -1, -1, -1, 1, 1, -1, -1, -1, -1, 1, 1, -1, -1, 1, -1, 1, 1, 1, 1, 1, -1, -1, 1, 1, -1, -1, -1, -1, 1, 1, 1, -1, -1, 1, 1, 1, -1, -1, -1, -1, 1, 1, -1, 1, 1, 1, -1, 1, 1, -1, 1, 1, -1, 1, -1, -1, 1, -1, 1, -1, 1, 1, -1, -1, -1, -1, 1, 1, -1, 1, -1]\n",
    "\n",
    "x_train = np.array(data_x)\n",
    "y_train = np.array(data_y)\n",
    "\n",
    "t_sz = int(len(x_train) * 0.9) # длина обучающих выборок\n",
    "np.random.seed(0)"
   ]
  },
  {
   "cell_type": "code",
   "execution_count": 5,
   "id": "61c125aa-89f9-4853-a6e9-aba04b19130d",
   "metadata": {},
   "outputs": [],
   "source": [
    "X1 = x_train[np.random.randint(0, t_sz, size=t_sz)]\n",
    "X2 = x_train[np.random.randint(0, t_sz, size=t_sz)]\n",
    "X3 = x_train[np.random.randint(0, t_sz, size=t_sz)]"
   ]
  },
  {
   "cell_type": "code",
   "execution_count": 14,
   "id": "c773bdf2-6197-410c-a746-815c9dab28ba",
   "metadata": {},
   "outputs": [
    {
     "data": {
      "text/plain": [
       "np.float64(0.005894467087973422)"
      ]
     },
     "execution_count": 14,
     "metadata": {},
     "output_type": "execute_result"
    }
   ],
   "source": [
    "import numpy as np\n",
    "from sklearn.ensemble import RandomForestRegressor\n",
    "\n",
    "x = np.arange(-3, 3, 0.1)\n",
    "y = 0.3 * x + np.cos(2*x) + 0.2 * np.sin(7*x)\n",
    "x = x.reshape(-1, 1)\n",
    "\n",
    "T = 5 # num of trees\n",
    "\n",
    "rf = RandomForestRegressor(max_depth=8, n_estimators=T, random_state=1)\n",
    "rf.fit(x, y)\n",
    "\n",
    "pr_y = rf.predict(x)\n",
    "Q = np.mean(np.square(pr_y - y))\n",
    "Q"
   ]
  },
  {
   "cell_type": "code",
   "execution_count": 16,
   "id": "0ef906e3-79e9-43fe-b763-7f8efa768e3e",
   "metadata": {},
   "outputs": [
    {
     "data": {
      "text/plain": [
       "np.float64(0.8279569892473119)"
      ]
     },
     "execution_count": 16,
     "metadata": {},
     "output_type": "execute_result"
    }
   ],
   "source": [
    "import numpy as np\n",
    "from sklearn.ensemble import RandomForestClassifier\n",
    "from sklearn.model_selection import train_test_split\n",
    "\n",
    "np.random.seed(0)\n",
    "n_feature = 5\n",
    "\n",
    "# исходные параметры для формирования образов обучающей выборки\n",
    "r1 = 0.7\n",
    "D1 = 3.0\n",
    "mean1 = [3, 7, -2, 4, 6]\n",
    "V1 = [[D1 * r1 ** abs(i-j) for j in range(n_feature)] for i in range(n_feature)]\n",
    "\n",
    "r2 = 0.5\n",
    "D2 = 2.0\n",
    "mean2 = [3, 7, -2, 4, 6] + np.array(range(1, n_feature+1)) * 0.5\n",
    "V2 = [[D2 * r2 ** abs(i-j) for j in range(n_feature)] for i in range(n_feature)]\n",
    "\n",
    "r3 = -0.7\n",
    "D3 = 1.0\n",
    "mean3 = [3, 7, -2, 4, 6] + np.array(range(1, n_feature+1)) * -0.5\n",
    "V3 = [[D3 * r3 ** abs(i-j) for j in range(n_feature)] for i in range(n_feature)]\n",
    "\n",
    "# моделирование обучающей выборки\n",
    "N1, N2, N3 = 1000, 1200, 900\n",
    "x1 = np.random.multivariate_normal(mean1, V1, N1).T\n",
    "x2 = np.random.multivariate_normal(mean2, V2, N2).T\n",
    "x3 = np.random.multivariate_normal(mean3, V3, N3).T\n",
    "\n",
    "data_x = np.hstack([x1, x2, x3]).T\n",
    "data_y = np.hstack([np.zeros(N1), np.ones(N2), np.ones(N3) * 2])\n",
    "\n",
    "x_train, x_test, y_train, y_test = train_test_split(data_x, data_y, random_state=123,test_size=0.3, shuffle=True)\n",
    "\n",
    "clf = RandomForestClassifier(max_depth=8, n_estimators=10)\n",
    "clf.fit(x_train, y_train)\n",
    "\n",
    "predict = clf.predict(x_test)\n",
    "\n",
    "Q = np.mean(predict == y_test)\n",
    "Q"
   ]
  },
  {
   "cell_type": "code",
   "execution_count": null,
   "id": "a407f070-d22c-4324-95d1-9db5ec5e54e6",
   "metadata": {},
   "outputs": [],
   "source": []
  }
 ],
 "metadata": {
  "kernelspec": {
   "display_name": "Python 3 (ipykernel)",
   "language": "python",
   "name": "python3"
  },
  "language_info": {
   "codemirror_mode": {
    "name": "ipython",
    "version": 3
   },
   "file_extension": ".py",
   "mimetype": "text/x-python",
   "name": "python",
   "nbconvert_exporter": "python",
   "pygments_lexer": "ipython3",
   "version": "3.12.4"
  }
 },
 "nbformat": 4,
 "nbformat_minor": 5
}
