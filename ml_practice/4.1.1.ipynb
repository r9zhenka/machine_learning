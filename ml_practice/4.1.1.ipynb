{
 "cells": [
  {
   "cell_type": "code",
   "execution_count": 1,
   "id": "7ca61e17-402c-4814-82d3-e3af67fc097f",
   "metadata": {},
   "outputs": [],
   "source": [
    "import matplotlib.pyplot as plt\n",
    "import numpy as np"
   ]
  },
  {
   "cell_type": "code",
   "execution_count": 46,
   "id": "f371edad-cfe5-4ece-a56a-d5af9f5d0b53",
   "metadata": {},
   "outputs": [],
   "source": [
    "def func(x):\n",
    "    return 0.02 * np.exp(-x) - 0.2 * np.sin(3*x) + 0.5 * np.cos(2*x) - 7\n",
    "xi = lambda x: np.array([x ** i for i in range(5)])\n",
    "def model(w, x):\n",
    "    return np.dot(w, xi(x))\n",
    "    \n",
    "def loss(w, x, y):\n",
    "    return (model(w, x) - y) ** 2\n",
    "\n",
    "def dL(w, x, y):\n",
    "    return 2 * (model(w, x) - y) * xi(x).T"
   ]
  },
  {
   "cell_type": "code",
   "execution_count": 47,
   "id": "1b1b0208-f5fa-42cb-965c-ea47355d0539",
   "metadata": {},
   "outputs": [
    {
     "data": {
      "text/plain": [
       "array([    9.22053635,   -45.18062813,   221.38507782, -1084.78688131,\n",
       "        5315.4557184 ])"
      ]
     },
     "execution_count": 47,
     "metadata": {},
     "output_type": "execute_result"
    }
   ],
   "source": [
    "coord_x = np.arange(-5.0, 5.0, 0.1)\n",
    "coord_y = func(coord_x)\n",
    "sz = len(coord_x)\n",
    "eta = np.array([0.01, 1e-3, 1e-4, 1e-5, 1e-6])\n",
    "w = np.array([0] * 5, float)\n",
    "N = 500 # number of iterations\n",
    "lm = 0.02 # value of lambda for acount s exp mean\n",
    "# loss(np.zeros(5), coord_x[1], coord_y[1])\n",
    "# model(np.ones(5), 2)\n",
    "dL(np.zeros(5), coord_x[1], coord_y[1])"
   ]
  },
  {
   "cell_type": "code",
   "execution_count": 48,
   "id": "f7da42a9-bf97-4daa-8118-c09c3592fdad",
   "metadata": {},
   "outputs": [],
   "source": [
    "Qe = np.mean([loss(w, x, y) for x, y in zip(coord_x, coord_y)])\n",
    "np.random.seed(0)\n",
    "# print(Qe)"
   ]
  },
  {
   "cell_type": "code",
   "execution_count": 49,
   "id": "75a86279-001d-4590-821c-fdca5436cdf3",
   "metadata": {},
   "outputs": [
    {
     "name": "stdout",
     "output_type": "stream",
     "text": [
      "[-6.64395250e+00  1.56201803e-02 -9.97312151e-02 -1.34398923e-02\n",
      "  4.97916283e-03]\n",
      "----0.1936973469680487\n",
      "----0.2699682808265348\n"
     ]
    }
   ],
   "source": [
    "for _ in range(N):\n",
    "    k = np.random.randint(0, sz-1)\n",
    "    xk = coord_x[k]\n",
    "    y = coord_y[k]\n",
    "    w -= eta * dL(w, xk, y)\n",
    "    Qe = lm * loss(w, xk, y) + (1 - lm) * Qe\n",
    "    \n",
    "\n",
    "Q = np.mean([loss(w, x, y) for x, y in zip(coord_x, coord_y)])\n",
    "print(w, Qe, Q, sep='\\n----')"
   ]
  },
  {
   "cell_type": "code",
   "execution_count": 50,
   "id": "80e15aa3-db08-4e3d-a7c0-c15a0299fa15",
   "metadata": {},
   "outputs": [
    {
     "data": {
      "image/png": "[encoded data removed]",
      "text/plain": [
       "<Figure size 500x500 with 1 Axes>"
      ]
     },
     "metadata": {},
     "output_type": "display_data"
    }
   ],
   "source": [
    "plt.figure(figsize=(5,5))\n",
    "plt.plot(coord_x, coord_y, c='b')\n",
    "plt.plot(coord_x, [model(w, x) for x in coord_x], c='r')\n",
    "plt.ylim(-10, 10)\n",
    "plt.show()"
   ]
  },
  {
   "cell_type": "code",
   "execution_count": null,
   "id": "f6a0581c-0837-40b8-ba21-4e4cd5d895cd",
   "metadata": {},
   "outputs": [],
   "source": []
  }
 ],
 "metadata": {
  "kernelspec": {
   "display_name": "Python 3 (ipykernel)",
   "language": "python",
   "name": "python3"
  },
  "language_info": {
   "codemirror_mode": {
    "name": "ipython",
    "version": 3
   },
   "file_extension": ".py",
   "mimetype": "text/x-python",
   "name": "python",
   "nbconvert_exporter": "python",
   "pygments_lexer": "ipython3",
   "version": "3.12.4"
  }
 },
 "nbformat": 4,
 "nbformat_minor": 5
}
