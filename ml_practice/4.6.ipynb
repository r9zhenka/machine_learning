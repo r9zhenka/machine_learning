{
 "cells": [
  {
   "cell_type": "code",
   "execution_count": 64,
   "id": "b7a9bd9b-9c13-41cc-bc8e-fedea2115868",
   "metadata": {},
   "outputs": [],
   "source": [
    "import numpy as np\n",
    "from sklearn import svm\n",
    "from sklearn.model_selection import train_test_split\n",
    "\n",
    "np.random.seed(0)\n",
    "\n",
    "# исходные параметры распределений классов\n",
    "r1 = 0.2\n",
    "D1 = 3.0\n",
    "mean1 = [2, -2]\n",
    "V1 = [[D1, D1 * r1], [D1 * r1, D1]]\n",
    "\n",
    "r2 = 0.5\n",
    "D2 = 2.0\n",
    "mean2 = [-1, -1]\n",
    "V2 = [[D2, D2 * r2], [D2 * r2, D2]]\n",
    "\n",
    "# моделирование обучающей выборки\n",
    "N1 = 1000\n",
    "N2 = 1000\n",
    "x1 = np.random.multivariate_normal(mean1, V1, N1).T\n",
    "x2 = np.random.multivariate_normal(mean2, V2, N2).T\n",
    "\n",
    "data_x = np.hstack([x1, x2]).T\n",
    "data_y = np.hstack([np.ones(N1) * -1, np.ones(N2)])\n",
    "\n",
    "x_train, x_test, y_train, y_test = train_test_split(data_x, data_y, random_state=123,test_size=0.5, shuffle=True)"
   ]
  },
  {
   "cell_type": "code",
   "execution_count": 66,
   "id": "c0b6a5fa-5db3-4ff4-97c4-365b83cf7b71",
   "metadata": {},
   "outputs": [
    {
     "name": "stdout",
     "output_type": "stream",
     "text": [
      "683\n"
     ]
    },
    {
     "data": {
      "text/plain": [
       "(array([0.        , 0.38537549, 1.        ]),\n",
       " array([0.        , 0.01214575, 1.        ]),\n",
       " np.float64(0.38537549407114624),\n",
       " np.float64(0.012145748987854251))"
      ]
     },
     "execution_count": 66,
     "metadata": {},
     "output_type": "execute_result"
    }
   ],
   "source": [
    "clf = svm.SVC(kernel='linear')\n",
    "clf.fit(x_train, y_train)\n",
    "\n",
    "w1 = clf.coef_[0]\n",
    "w0 = clf.intercept_\n",
    "w = [*w0, *w1]\n",
    "# predict = clf.predict(x_test)\n",
    "t = 2\n",
    "# y_pred = np.sign(np.array([[1, x[0], x[1]] for x in x_test]) @ w - 2)\n",
    "x_test = np.array([[1, x[0], x[1]] for x in x_test])\n",
    "\n",
    "predict = np.array([np.sign(np.dot(w, x) - t) for x in x_test])\n",
    "# print(np.sum([predict!=y_test]))\n",
    "FPR = sum(predict[y_test==-1]==1)/ (sum(predict[y_test==-1]==1) + sum(predict[y_test==-1]==-1))\n",
    "TPR = sum(predict[y_test==1]==1)/ (sum(predict[y_test==1]==1) + sum(predict[y_test==1]==-1))\n",
    "from sklearn import metrics \n",
    "FPR1, TPR1, tresholds = metrics.roc_curve(y_test, predict)\n",
    "FPR1, TPR1, FPR, TPR\n",
    "\n"
   ]
  },
  {
   "cell_type": "code",
   "execution_count": null,
   "id": "ae40e2a8-fccd-4748-91be-4d212e0eadac",
   "metadata": {},
   "outputs": [],
   "source": []
  }
 ],
 "metadata": {
  "kernelspec": {
   "display_name": "Python 3 (ipykernel)",
   "language": "python",
   "name": "python3"
  },
  "language_info": {
   "codemirror_mode": {
    "name": "ipython",
    "version": 3
   },
   "file_extension": ".py",
   "mimetype": "text/x-python",
   "name": "python",
   "nbconvert_exporter": "python",
   "pygments_lexer": "ipython3",
   "version": "3.12.4"
  }
 },
 "nbformat": 4,
 "nbformat_minor": 5
}
